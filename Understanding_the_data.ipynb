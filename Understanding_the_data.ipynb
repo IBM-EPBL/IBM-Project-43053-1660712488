{
  "nbformat": 4,
  "nbformat_minor": 0,
  "metadata": {
    "colab": {
      "provenance": [],
      "collapsed_sections": []
    },
    "kernelspec": {
      "name": "python3",
      "display_name": "Python 3"
    },
    "language_info": {
      "name": "python"
    }
  },
  "cells": [
    {
      "cell_type": "code",
      "execution_count": null,
      "metadata": {
        "id": "vK2rBFegWCsF"
      },
      "outputs": [],
      "source": []
    },
    {
      "cell_type": "markdown",
      "source": [
        "understanding the data\n"
      ],
      "metadata": {
        "id": "Y2GVycRkWIwC"
      }
    },
    {
      "cell_type": "code",
      "source": [
        "#Importing Necessary Libraries\n",
        "import numpy #used for numerical analysis\n",
        "import tensorflow #open source used for both NL and DL for computation\n",
        "from tensorflow.keras.datasets import mnist #mnist datoser\n",
        "from tensorflow.keras.models import Sequential #it is a plain stack of Layers\n",
        "from tensorflow.keras import layers# A Layer consists of a tensor-in tensor-out computation function\n",
        "from tensorflow.keras.layers import Dense, Flatten #Dense-Dense Layer is the regular deeply connected\n",
        "#Faltten-used for flattening the input or change the dimension\n",
        "from tensorflow.keras.layers import Conv2D #Convolutional Layer\n",
        "from keras.optimizers import Adam #optimizer\n",
        "from keras.utils import np_utils #used for one-hot encoding"
      ],
      "metadata": {
        "id": "Yk6sKYOnWQHC"
      },
      "execution_count": 1,
      "outputs": []
    },
    {
      "cell_type": "code",
      "source": [
        "#load data\n",
        "(x_train, y_train), (x_test, y_test) = mnist.load_data() #splitting the mist data into train and test"
      ],
      "metadata": {
        "colab": {
          "base_uri": "https://localhost:8080/"
        },
        "id": "eDIYjeB3WQVB",
        "outputId": "97982c89-1b8f-49c9-94b6-6d3757babb1f"
      },
      "execution_count": 2,
      "outputs": [
        {
          "output_type": "stream",
          "name": "stdout",
          "text": [
            "Downloading data from https://storage.googleapis.com/tensorflow/tf-keras-datasets/mnist.npz\n",
            "11490434/11490434 [==============================] - 1s 0us/step\n"
          ]
        }
      ]
    },
    {
      "cell_type": "code",
      "source": [
        "print(x_train.shape) #shope is used for give the dimension values #60000-rows 28x28-pixels \n",
        "print (x_test.shape)\n",
        "(68000, 28, 28)\n",
        "(10000, 28, 28)"
      ],
      "metadata": {
        "colab": {
          "base_uri": "https://localhost:8080/"
        },
        "id": "XwdxN08VWQa9",
        "outputId": "4964a2c7-ce8c-4c8f-e67b-81bdaa673846"
      },
      "execution_count": 3,
      "outputs": [
        {
          "output_type": "stream",
          "name": "stdout",
          "text": [
            "(60000, 28, 28)\n",
            "(10000, 28, 28)\n"
          ]
        },
        {
          "output_type": "execute_result",
          "data": {
            "text/plain": [
              "(10000, 28, 28)"
            ]
          },
          "metadata": {},
          "execution_count": 3
        }
      ]
    },
    {
      "cell_type": "code",
      "source": [
        "#Understanding the data\n",
        "x_train[0] #printing the first image"
      ],
      "metadata": {
        "colab": {
          "base_uri": "https://localhost:8080/"
        },
        "id": "wNsNTZd1WQd4",
        "outputId": "e8347222-e70f-4c65-991f-6901e7055623"
      },
      "execution_count": 4,
      "outputs": [
        {
          "output_type": "execute_result",
          "data": {
            "text/plain": [
              "array([[  0,   0,   0,   0,   0,   0,   0,   0,   0,   0,   0,   0,   0,\n",
              "          0,   0,   0,   0,   0,   0,   0,   0,   0,   0,   0,   0,   0,\n",
              "          0,   0],\n",
              "       [  0,   0,   0,   0,   0,   0,   0,   0,   0,   0,   0,   0,   0,\n",
              "          0,   0,   0,   0,   0,   0,   0,   0,   0,   0,   0,   0,   0,\n",
              "          0,   0],\n",
              "       [  0,   0,   0,   0,   0,   0,   0,   0,   0,   0,   0,   0,   0,\n",
              "          0,   0,   0,   0,   0,   0,   0,   0,   0,   0,   0,   0,   0,\n",
              "          0,   0],\n",
              "       [  0,   0,   0,   0,   0,   0,   0,   0,   0,   0,   0,   0,   0,\n",
              "          0,   0,   0,   0,   0,   0,   0,   0,   0,   0,   0,   0,   0,\n",
              "          0,   0],\n",
              "       [  0,   0,   0,   0,   0,   0,   0,   0,   0,   0,   0,   0,   0,\n",
              "          0,   0,   0,   0,   0,   0,   0,   0,   0,   0,   0,   0,   0,\n",
              "          0,   0],\n",
              "       [  0,   0,   0,   0,   0,   0,   0,   0,   0,   0,   0,   0,   3,\n",
              "         18,  18,  18, 126, 136, 175,  26, 166, 255, 247, 127,   0,   0,\n",
              "          0,   0],\n",
              "       [  0,   0,   0,   0,   0,   0,   0,   0,  30,  36,  94, 154, 170,\n",
              "        253, 253, 253, 253, 253, 225, 172, 253, 242, 195,  64,   0,   0,\n",
              "          0,   0],\n",
              "       [  0,   0,   0,   0,   0,   0,   0,  49, 238, 253, 253, 253, 253,\n",
              "        253, 253, 253, 253, 251,  93,  82,  82,  56,  39,   0,   0,   0,\n",
              "          0,   0],\n",
              "       [  0,   0,   0,   0,   0,   0,   0,  18, 219, 253, 253, 253, 253,\n",
              "        253, 198, 182, 247, 241,   0,   0,   0,   0,   0,   0,   0,   0,\n",
              "          0,   0],\n",
              "       [  0,   0,   0,   0,   0,   0,   0,   0,  80, 156, 107, 253, 253,\n",
              "        205,  11,   0,  43, 154,   0,   0,   0,   0,   0,   0,   0,   0,\n",
              "          0,   0],\n",
              "       [  0,   0,   0,   0,   0,   0,   0,   0,   0,  14,   1, 154, 253,\n",
              "         90,   0,   0,   0,   0,   0,   0,   0,   0,   0,   0,   0,   0,\n",
              "          0,   0],\n",
              "       [  0,   0,   0,   0,   0,   0,   0,   0,   0,   0,   0, 139, 253,\n",
              "        190,   2,   0,   0,   0,   0,   0,   0,   0,   0,   0,   0,   0,\n",
              "          0,   0],\n",
              "       [  0,   0,   0,   0,   0,   0,   0,   0,   0,   0,   0,  11, 190,\n",
              "        253,  70,   0,   0,   0,   0,   0,   0,   0,   0,   0,   0,   0,\n",
              "          0,   0],\n",
              "       [  0,   0,   0,   0,   0,   0,   0,   0,   0,   0,   0,   0,  35,\n",
              "        241, 225, 160, 108,   1,   0,   0,   0,   0,   0,   0,   0,   0,\n",
              "          0,   0],\n",
              "       [  0,   0,   0,   0,   0,   0,   0,   0,   0,   0,   0,   0,   0,\n",
              "         81, 240, 253, 253, 119,  25,   0,   0,   0,   0,   0,   0,   0,\n",
              "          0,   0],\n",
              "       [  0,   0,   0,   0,   0,   0,   0,   0,   0,   0,   0,   0,   0,\n",
              "          0,  45, 186, 253, 253, 150,  27,   0,   0,   0,   0,   0,   0,\n",
              "          0,   0],\n",
              "       [  0,   0,   0,   0,   0,   0,   0,   0,   0,   0,   0,   0,   0,\n",
              "          0,   0,  16,  93, 252, 253, 187,   0,   0,   0,   0,   0,   0,\n",
              "          0,   0],\n",
              "       [  0,   0,   0,   0,   0,   0,   0,   0,   0,   0,   0,   0,   0,\n",
              "          0,   0,   0,   0, 249, 253, 249,  64,   0,   0,   0,   0,   0,\n",
              "          0,   0],\n",
              "       [  0,   0,   0,   0,   0,   0,   0,   0,   0,   0,   0,   0,   0,\n",
              "          0,  46, 130, 183, 253, 253, 207,   2,   0,   0,   0,   0,   0,\n",
              "          0,   0],\n",
              "       [  0,   0,   0,   0,   0,   0,   0,   0,   0,   0,   0,   0,  39,\n",
              "        148, 229, 253, 253, 253, 250, 182,   0,   0,   0,   0,   0,   0,\n",
              "          0,   0],\n",
              "       [  0,   0,   0,   0,   0,   0,   0,   0,   0,   0,  24, 114, 221,\n",
              "        253, 253, 253, 253, 201,  78,   0,   0,   0,   0,   0,   0,   0,\n",
              "          0,   0],\n",
              "       [  0,   0,   0,   0,   0,   0,   0,   0,  23,  66, 213, 253, 253,\n",
              "        253, 253, 198,  81,   2,   0,   0,   0,   0,   0,   0,   0,   0,\n",
              "          0,   0],\n",
              "       [  0,   0,   0,   0,   0,   0,  18, 171, 219, 253, 253, 253, 253,\n",
              "        195,  80,   9,   0,   0,   0,   0,   0,   0,   0,   0,   0,   0,\n",
              "          0,   0],\n",
              "       [  0,   0,   0,   0,  55, 172, 226, 253, 253, 253, 253, 244, 133,\n",
              "         11,   0,   0,   0,   0,   0,   0,   0,   0,   0,   0,   0,   0,\n",
              "          0,   0],\n",
              "       [  0,   0,   0,   0, 136, 253, 253, 253, 212, 135, 132,  16,   0,\n",
              "          0,   0,   0,   0,   0,   0,   0,   0,   0,   0,   0,   0,   0,\n",
              "          0,   0],\n",
              "       [  0,   0,   0,   0,   0,   0,   0,   0,   0,   0,   0,   0,   0,\n",
              "          0,   0,   0,   0,   0,   0,   0,   0,   0,   0,   0,   0,   0,\n",
              "          0,   0],\n",
              "       [  0,   0,   0,   0,   0,   0,   0,   0,   0,   0,   0,   0,   0,\n",
              "          0,   0,   0,   0,   0,   0,   0,   0,   0,   0,   0,   0,   0,\n",
              "          0,   0],\n",
              "       [  0,   0,   0,   0,   0,   0,   0,   0,   0,   0,   0,   0,   0,\n",
              "          0,   0,   0,   0,   0,   0,   0,   0,   0,   0,   0,   0,   0,\n",
              "          0,   0]], dtype=uint8)"
            ]
          },
          "metadata": {},
          "execution_count": 4
        }
      ]
    },
    {
      "cell_type": "code",
      "source": [
        "y_train[0]#printing Lable of first image"
      ],
      "metadata": {
        "colab": {
          "base_uri": "https://localhost:8080/"
        },
        "id": "kv78-l66WQgs",
        "outputId": "c10ea993-aa8a-4187-92bb-4772cf69d5fc"
      },
      "execution_count": 5,
      "outputs": [
        {
          "output_type": "execute_result",
          "data": {
            "text/plain": [
              "5"
            ]
          },
          "metadata": {},
          "execution_count": 5
        }
      ]
    },
    {
      "cell_type": "code",
      "source": [
        "import matplotlib.pyplot as plt #used for data visualization \n",
        "plt.imshow(x_train[0]) #ploting the index=0 image\n"
      ],
      "metadata": {
        "colab": {
          "base_uri": "https://localhost:8080/",
          "height": 282
        },
        "id": "IA6zj7ayWQi-",
        "outputId": "ad69c81a-9e86-4d51-c8cf-84f240b9b2a4"
      },
      "execution_count": 6,
      "outputs": [
        {
          "output_type": "execute_result",
          "data": {
            "text/plain": [
              "<matplotlib.image.AxesImage at 0x7f6196f14210>"
            ]
          },
          "metadata": {},
          "execution_count": 6
        },
        {
          "output_type": "display_data",
          "data": {
            "text/plain": [
              "<Figure size 432x288 with 1 Axes>"
            ],
            "image/png": "[encoded data removed]"
          },
          "metadata": {
            "needs_background": "light"
          }
        }
      ]
    },
    {
      "cell_type": "code",
      "source": [
        "#Reshaping Dataset\n",
        "#Reshaping to format which CNN expects (batch, height, width, channels) \n",
        "x_train = x_train.reshape(60000, 28, 28, 1).astype('float32') \n",
        "x_test = x_test.reshape(10000, 28, 28, 1).astype('float32')"
      ],
      "metadata": {
        "id": "mTW2uDFBWQlW"
      },
      "execution_count": 7,
      "outputs": []
    },
    {
      "cell_type": "code",
      "source": [
        "#One-Hot Encoding\n",
        "#one hot encode\n",
        "number_of_classes = 10 #storing the no. classes in a variable\n",
        "y_train = np_utils.to_categorical (y_train, number_of_classes) #converts the output in binary format\n",
        "y_test= np_utils.to_categorical (y_test, number_of_classes)"
      ],
      "metadata": {
        "id": "hZBxJyj8WQn0"
      },
      "execution_count": 8,
      "outputs": []
    },
    {
      "cell_type": "code",
      "source": [
        "y_train[0] #printing the new Label\n"
      ],
      "metadata": {
        "colab": {
          "base_uri": "https://localhost:8080/"
        },
        "id": "-4oSFqS9WQpp",
        "outputId": "1ce673a4-3a93-4a31-f83d-4c9c25c6efc4"
      },
      "execution_count": 9,
      "outputs": [
        {
          "output_type": "execute_result",
          "data": {
            "text/plain": [
              "array([0., 0., 0., 0., 0., 1., 0., 0., 0., 0.], dtype=float32)"
            ]
          },
          "metadata": {},
          "execution_count": 9
        }
      ]
    },
    {
      "cell_type": "code",
      "source": [
        "#Creating the Model\n",
        "#create model\n",
        "model =Sequential()\n",
        "#adding model Layer\n",
        "model.add(Conv2D (64, (3, 3), input_shape=(28, 28, 1), activation='relu'))\n",
        "model.add(Conv2D (32, (3, 3), activation='relu'))\n",
        "#model.add(Conv20(32, (3, 3), activation=\"relu\"))\n",
        "#flotten the dimension of the image\n",
        "model.add(Flatten())\n",
        "#output Layer with 10 neurons\n",
        "model.add(Dense(number_of_classes, activation='softmax'))"
      ],
      "metadata": {
        "id": "1DhLVDr7WQr9"
      },
      "execution_count": 10,
      "outputs": []
    },
    {
      "cell_type": "code",
      "source": [
        "#Compiling the model\n",
        "# Compile mode\n",
        "model.compile(loss=\"categorical_crossentropy\", optimizer =\n",
        "              \"Adam\", metrics=['accuracy'])"
      ],
      "metadata": {
        "id": "wQBoCJepWQuK"
      },
      "execution_count": 11,
      "outputs": []
    },
    {
      "cell_type": "code",
      "source": [
        "# Fit the model\n",
        "model.fit(x_train, y_train, validation_data = (x_test, y_test), epochs=5, batch_size=32)\n"
      ],
      "metadata": {
        "colab": {
          "base_uri": "https://localhost:8080/"
        },
        "id": "VR9EWxgfXE23",
        "outputId": "61005fde-f2cb-4b9f-aad8-598b48966390"
      },
      "execution_count": 12,
      "outputs": [
        {
          "output_type": "stream",
          "name": "stdout",
          "text": [
            "Epoch 1/5\n",
            "1875/1875 [==============================] - 217s 115ms/step - loss: 0.2877 - accuracy: 0.9485 - val_loss: 0.1008 - val_accuracy: 0.9687\n",
            "Epoch 2/5\n",
            "1875/1875 [==============================] - 206s 110ms/step - loss: 0.0751 - accuracy: 0.9772 - val_loss: 0.0919 - val_accuracy: 0.9722\n",
            "Epoch 3/5\n",
            "1875/1875 [==============================] - 202s 108ms/step - loss: 0.0507 - accuracy: 0.9839 - val_loss: 0.0997 - val_accuracy: 0.9725\n",
            "Epoch 4/5\n",
            "1875/1875 [==============================] - 203s 108ms/step - loss: 0.0397 - accuracy: 0.9873 - val_loss: 0.0913 - val_accuracy: 0.9742\n",
            "Epoch 5/5\n",
            "1875/1875 [==============================] - 206s 110ms/step - loss: 0.0294 - accuracy: 0.9908 - val_loss: 0.1089 - val_accuracy: 0.9756\n"
          ]
        },
        {
          "output_type": "execute_result",
          "data": {
            "text/plain": [
              "<keras.callbacks.History at 0x7f619277ea50>"
            ]
          },
          "metadata": {},
          "execution_count": 12
        }
      ]
    },
    {
      "cell_type": "code",
      "source": [
        "#Observing the metrics\n",
        "# Final evaluation of the model\n",
        "metrics = model.evaluate(x_test, y_test, verbose=8)\n",
        "print(\"Metrics (Test loss & Test Accuracy): \") \n",
        "print(metrics)"
      ],
      "metadata": {
        "colab": {
          "base_uri": "https://localhost:8080/"
        },
        "id": "B9Ybec45XFG0",
        "outputId": "c5552c9a-1cff-4523-a4e3-678e88486c17"
      },
      "execution_count": 13,
      "outputs": [
        {
          "output_type": "stream",
          "name": "stdout",
          "text": [
            "Metrics (Test loss & Test Accuracy): \n",
            "[0.10893940180540085, 0.975600004196167]\n"
          ]
        }
      ]
    },
    {
      "cell_type": "code",
      "source": [
        "#Predicting the output\n",
        "prediction= model.predict(x_test[:4])\n",
        "print (prediction)"
      ],
      "metadata": {
        "colab": {
          "base_uri": "https://localhost:8080/"
        },
        "id": "MZVA1tj-XFWY",
        "outputId": "da8b6ce4-c3b4-4266-cf5e-033d3b6282ef"
      },
      "execution_count": 16,
      "outputs": [
        {
          "output_type": "stream",
          "name": "stdout",
          "text": [
            "1/1 [==============================] - 0s 116ms/step\n",
            "[[1.6426258e-11 4.0121426e-20 1.0953454e-12 2.6627710e-13 1.1442532e-19\n",
            "  5.1056392e-20 1.1558602e-21 1.0000000e+00 2.9396868e-10 8.2979289e-13]\n",
            " [9.5224009e-11 7.3399224e-11 1.0000000e+00 2.6145191e-12 4.7941551e-16\n",
            "  2.5989093e-18 2.7404319e-08 5.0329622e-15 1.1241052e-11 1.7845892e-17]\n",
            " [1.7456649e-10 9.9999833e-01 1.7339131e-08 8.8896325e-14 6.3351212e-07\n",
            "  1.3157173e-11 4.8014624e-11 2.5391208e-12 1.0242418e-06 1.8629589e-11]\n",
            " [9.9999905e-01 5.0930925e-18 1.0600600e-08 8.3612159e-13 9.1536001e-10\n",
            "  3.9435410e-11 8.8729848e-07 3.8270217e-13 1.2968936e-09 2.3918706e-10]]\n"
          ]
        }
      ]
    },
    {
      "cell_type": "code",
      "source": [
        "import numpy as np\n",
        "print (np.argmax(prediction, axis=1)) #printing our labels from first 4 images\n",
        "print (y_test[:4]) #printing the actual labels"
      ],
      "metadata": {
        "colab": {
          "base_uri": "https://localhost:8080/"
        },
        "id": "iKsqVg9jXIuw",
        "outputId": "72958fa1-7f1b-42d6-ab3b-88391c563578"
      },
      "execution_count": 17,
      "outputs": [
        {
          "output_type": "stream",
          "name": "stdout",
          "text": [
            "[7 2 1 0]\n",
            "[[0. 0. 0. 0. 0. 0. 0. 1. 0. 0.]\n",
            " [0. 0. 1. 0. 0. 0. 0. 0. 0. 0.]\n",
            " [0. 1. 0. 0. 0. 0. 0. 0. 0. 0.]\n",
            " [1. 0. 0. 0. 0. 0. 0. 0. 0. 0.]]\n"
          ]
        }
      ]
    },
    {
      "cell_type": "code",
      "source": [
        "#Observing the metrics\n",
        "# Final evaluation of the model\n",
        "metrics = model.evaluate(x_test, y_test, verbose=8) \n",
        "print(\"Metrics (Test loss & Test Accuracy): \")\n",
        "print(metrics)"
      ],
      "metadata": {
        "colab": {
          "base_uri": "https://localhost:8080/"
        },
        "id": "Kdc8VSxrXI3e",
        "outputId": "ddae0fb8-7943-4b51-a71b-8e27b78f0653"
      },
      "execution_count": 18,
      "outputs": [
        {
          "output_type": "stream",
          "name": "stdout",
          "text": [
            "Metrics (Test loss & Test Accuracy): \n",
            "[0.10893940180540085, 0.975600004196167]\n"
          ]
        }
      ]
    },
    {
      "cell_type": "code",
      "source": [
        "#Predicting the output\n",
        "prediction= model.predict(x_test[:4]) \n",
        "print (prediction)"
      ],
      "metadata": {
        "colab": {
          "base_uri": "https://localhost:8080/"
        },
        "id": "Nd1-rmvLWQwe",
        "outputId": "0254ec78-29ae-490a-de36-39f1150b970d"
      },
      "execution_count": 19,
      "outputs": [
        {
          "output_type": "stream",
          "name": "stdout",
          "text": [
            "1/1 [==============================] - 0s 28ms/step\n",
            "[[1.6426258e-11 4.0121426e-20 1.0953454e-12 2.6627710e-13 1.1442532e-19\n",
            "  5.1056392e-20 1.1558602e-21 1.0000000e+00 2.9396868e-10 8.2979289e-13]\n",
            " [9.5224009e-11 7.3399224e-11 1.0000000e+00 2.6145191e-12 4.7941551e-16\n",
            "  2.5989093e-18 2.7404319e-08 5.0329622e-15 1.1241052e-11 1.7845892e-17]\n",
            " [1.7456649e-10 9.9999833e-01 1.7339131e-08 8.8896325e-14 6.3351212e-07\n",
            "  1.3157173e-11 4.8014624e-11 2.5391208e-12 1.0242418e-06 1.8629589e-11]\n",
            " [9.9999905e-01 5.0930925e-18 1.0600600e-08 8.3612159e-13 9.1536001e-10\n",
            "  3.9435410e-11 8.8729848e-07 3.8270217e-13 1.2968936e-09 2.3918706e-10]]\n"
          ]
        }
      ]
    },
    {
      "cell_type": "code",
      "source": [
        "import numpy as np\n",
        "print (np.argmax(prediction, axis=1)) #printing our labels from first 4 images\n",
        "print (y_test[:4]) #printing the actual labels"
      ],
      "metadata": {
        "colab": {
          "base_uri": "https://localhost:8080/"
        },
        "id": "TilF2_kuXdlV",
        "outputId": "b803d047-f510-421e-91e2-aa65fe891c45"
      },
      "execution_count": 20,
      "outputs": [
        {
          "output_type": "stream",
          "name": "stdout",
          "text": [
            "[7 2 1 0]\n",
            "[[0. 0. 0. 0. 0. 0. 0. 1. 0. 0.]\n",
            " [0. 0. 1. 0. 0. 0. 0. 0. 0. 0.]\n",
            " [0. 1. 0. 0. 0. 0. 0. 0. 0. 0.]\n",
            " [1. 0. 0. 0. 0. 0. 0. 0. 0. 0.]]\n"
          ]
        }
      ]
    },
    {
      "cell_type": "code",
      "source": [
        "#Saving the model\n",
        "# Save the model\n",
        "model.save('models/mnistCNN.h5')"
      ],
      "metadata": {
        "id": "DDtxLvWmXdv8"
      },
      "execution_count": 21,
      "outputs": []
    },
    {
      "cell_type": "code",
      "source": [
        "#Taking images as input and checking results\n",
        "#Importing the Keras Libraries and packages\n",
        "from tensorflow.keras.models import load_model\n",
        "model = load_model(r'C:\\Users\\karthik\\models\\mnistCNN.h5')\n",
        "from PIL import Image # used for manipulating image uploaded by the user.\n",
        "import numpy as np #used for numerical analysis\n",
        "for index in range(4):\n",
        "    img = Image.open(r\"C:\\Users\\karthik\\PROJECT IBM\\models\\archive\\mnist_png\\mnist_png\\testing\\0\\3.png\") #convert image to monochrome\n",
        "\n",
        "    img = img.resize((28,28))# resizing of input image\n",
        "    im2arr =  np.array(img) #converting to image\n",
        "    im2arr = im2arr.reshape(1,28,28,1) #reshaping according to our requirement\n",
        "    #Predicting the Test set results\n",
        "    y_pred =  model.predict(im2arr) #predicting the results\n",
        "    print(y_pred)"
      ],
      "metadata": {
        "id": "ANJALleJXd9l"
      },
      "execution_count": null,
      "outputs": []
    },
    {
      "cell_type": "code",
      "source": [],
      "metadata": {
        "id": "GmD_Vh2YXeCv"
      },
      "execution_count": null,
      "outputs": []
    },
    {
      "cell_type": "code",
      "source": [],
      "metadata": {
        "id": "hmHw1ZdEXeHx"
      },
      "execution_count": null,
      "outputs": []
    },
    {
      "cell_type": "code",
      "source": [],
      "metadata": {
        "id": "7F8BDxVBWQ0H"
      },
      "execution_count": null,
      "outputs": []
    }
  ]
}